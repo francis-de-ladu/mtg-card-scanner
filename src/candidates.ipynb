{
 "cells": [
  {
   "cell_type": "code",
   "execution_count": 1,
   "metadata": {},
   "outputs": [
    {
     "name": "stderr",
     "output_type": "stream",
     "text": [
      "/home/francis/Documents/projects/mtg-card-scanner/.venv/lib/python3.12/site-packages/sam2/modeling/sam/transformer.py:22: UserWarning: Flash Attention is disabled as it requires a GPU with Ampere (8.0) CUDA capability.\n",
      "  OLD_GPU, USE_FLASH_ATTN, MATH_KERNEL_ON = get_sdpa_settings()\n"
     ]
    },
    {
     "data": {
      "text/plain": [
       "'NVIDIA GeForce RTX 2070'"
      ]
     },
     "execution_count": 1,
     "metadata": {},
     "output_type": "execute_result"
    }
   ],
   "source": [
    "import math\n",
    "import re\n",
    "import shutil\n",
    "import statistics\n",
    "import subprocess\n",
    "import sys\n",
    "from collections import defaultdict\n",
    "from pathlib import Path\n",
    "from pprint import pprint\n",
    "\n",
    "import cv2\n",
    "import numpy as np\n",
    "import torch\n",
    "from PIL import Image\n",
    "from sam2.automatic_mask_generator import SAM2AutomaticMaskGenerator\n",
    "from sam2.build_sam import build_sam2\n",
    "from tqdm import tqdm\n",
    "\n",
    "if True:\n",
    "    sys.path.append(\"..\")\n",
    "    from src.functions import extract_cards\n",
    "\n",
    "torch.cuda.get_device_name(0)"
   ]
  },
  {
   "cell_type": "code",
   "execution_count": 2,
   "metadata": {},
   "outputs": [],
   "source": [
    "PROJECT_ROOT = Path(\"..\")\n",
    "\n",
    "SRC = Path(\"__file__\").parent.resolve()\n",
    "ROOT = SRC.parent\n",
    "DATA = ROOT / \"data\""
   ]
  },
  {
   "cell_type": "code",
   "execution_count": 3,
   "metadata": {},
   "outputs": [],
   "source": [
    "checkpoint = PROJECT_ROOT / \"checkpoints\" / \"sam2_hiera_tiny.pt\"\n",
    "model_cfg = \"sam2_hiera_t.yaml\"\n",
    "\n",
    "mask_generator = SAM2AutomaticMaskGenerator(\n",
    "    build_sam2(model_cfg, checkpoint),\n",
    "    points_per_side=16,\n",
    "    stability_score_thresh=0.9,\n",
    "    stability_score_offset=0.95,\n",
    "    min_mask_region_area=5_000,\n",
    "    # min_mask_region_area=5_000,\n",
    "    # use_m2m=True,\n",
    ")"
   ]
  },
  {
   "cell_type": "code",
   "execution_count": 4,
   "metadata": {},
   "outputs": [
    {
     "name": "stderr",
     "output_type": "stream",
     "text": [
      "100%|██████████| 10/10 [00:13<00:00,  1.39s/it]"
     ]
    },
    {
     "name": "stdout",
     "output_type": "stream",
     "text": [
      "{'20200902_214209': [],\n",
      " '20210702_142005': [],\n",
      " '20230517_222619': [],\n",
      " '20230621_211622': [],\n",
      " '20230621_212158': [],\n",
      " '20230621_215158': [],\n",
      " '20230621_220734': [],\n",
      " '20230621_230245': [('', '1337 2FA\\nONE E')],\n",
      " '20230710_202801': [],\n",
      " '20230710_205732': []}\n"
     ]
    },
    {
     "name": "stderr",
     "output_type": "stream",
     "text": [
      "\n"
     ]
    }
   ],
   "source": [
    "candidates_path = DATA / \"candidates\"\n",
    "\n",
    "extracted_cards = {}\n",
    "for path in tqdm(sorted(candidates_path.iterdir())[:10]):\n",
    "    outputs = extract_cards(mask_generator, path, resize=0.75)\n",
    "    extracted_cards[path.stem] = outputs\n",
    "\n",
    "pprint(extracted_cards)"
   ]
  },
  {
   "cell_type": "code",
   "execution_count": null,
   "metadata": {},
   "outputs": [],
   "source": []
  }
 ],
 "metadata": {
  "kernelspec": {
   "display_name": ".venv",
   "language": "python",
   "name": "python3"
  },
  "language_info": {
   "codemirror_mode": {
    "name": "ipython",
    "version": 3
   },
   "file_extension": ".py",
   "mimetype": "text/x-python",
   "name": "python",
   "nbconvert_exporter": "python",
   "pygments_lexer": "ipython3",
   "version": "3.12.6"
  }
 },
 "nbformat": 4,
 "nbformat_minor": 2
}
